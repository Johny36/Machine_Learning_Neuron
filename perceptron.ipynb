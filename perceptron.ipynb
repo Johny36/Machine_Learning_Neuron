{
 "cells": [
  {
   "cell_type": "markdown",
   "metadata": {},
   "source": [
    "Let's try to create a Single Neuron from Scratch :)!\n",
    "\n",
    "CReate a Neuron / Part 1\n",
    "\n",
    "Let't create a neuron that estimate the room temperature\n"
   ]
  },
  {
   "cell_type": "code",
   "execution_count": 7,
   "metadata": {},
   "outputs": [
    {
     "name": "stdout",
     "output_type": "stream",
     "text": [
      "X >     Y\n",
      "-------\n",
      "  0     0\n",
      "  1     0\n",
      "  2     0\n",
      "  3     0\n",
      "  4     0\n",
      "  5     0\n",
      "  6     0\n",
      "  7     0\n",
      "  8     0\n",
      "  9     0\n",
      " 10     0\n",
      " 11     0\n",
      " 12     0\n",
      " 13     0\n",
      " 14     0\n",
      " 15     0\n",
      " 16     0\n",
      " 17     0\n",
      " 18     0\n",
      " 19     0\n",
      " 20     0\n",
      " 21     0\n",
      " 22     0\n",
      " 23     0\n",
      " 24     0\n",
      " 25     0\n",
      " 26     0\n",
      " 27     0\n",
      " 28     1\n",
      " 29     1\n",
      " 30     1\n",
      " 31     1\n",
      " 32     1\n",
      " 33     1\n",
      " 34     1\n",
      " 35     1\n",
      " 36     1\n",
      " 37     1\n",
      " 38     1\n",
      " 39     1\n",
      " 40     1\n",
      " 41     1\n",
      " 42     1\n",
      " 43     1\n",
      " 44     1\n",
      " 45     1\n",
      " 46     1\n",
      " 47     1\n",
      " 48     1\n",
      " 49     1\n",
      " 50     1\n"
     ]
    },
    {
     "data": {
      "image/png": "[encoded data removed]",
      "text/plain": [
       "<Figure size 432x288 with 1 Axes>"
      ]
     },
     "metadata": {
      "needs_background": "light"
     },
     "output_type": "display_data"
    }
   ],
   "source": [
    "# Input : room temperature [0...50] Celsius degrees\n",
    "# Output : [0  ...  1] / ok - hot\n",
    "\n",
    "print(\"X >     Y\")\n",
    "print(\"-------\")\n",
    "\n",
    "# CORECT SOLUTION\n",
    "# T >= 30 -> THEN HOT\n",
    "\n",
    "from random import randint\n",
    "import matplotlib.pyplot as plt\n",
    "# X -----> (NEURON)  --------> Y\n",
    "\n",
    "x = []\n",
    "y = []\n",
    "\n",
    "for i in range(51):\n",
    "\n",
    "    # X = randint(0,50)\n",
    "    X = i\n",
    "    x.append(X)\n",
    "    ############# NEURON ####################\n",
    "    B = -6\n",
    "    W = 0.25\n",
    "    # Sum of imputs\n",
    "    Yt =int( X * W + B )\n",
    "    # step activation function\n",
    "    Y = 1 if Yt >= 5 else 0\n",
    "    ############# NEURON ####################\n",
    "\n",
    "    y.append(Y)\n",
    "    plt.plot(x,y)\n",
    "# ^          ^=================\n",
    "# |          ^\n",
    "# |          ^\n",
    "#0===========^-----------------> Yt\n",
    "#            5\n",
    "\n",
    "    print(f\"{X:3}   {Y:3}\")"
   ]
  },
  {
   "cell_type": "markdown",
   "metadata": {},
   "source": []
  }
 ],
 "metadata": {
  "kernelspec": {
   "display_name": "Python 3.10.2 64-bit",
   "language": "python",
   "name": "python3"
  },
  "language_info": {
   "codemirror_mode": {
    "name": "ipython",
    "version": 3
   },
   "file_extension": ".py",
   "mimetype": "text/x-python",
   "name": "python",
   "nbconvert_exporter": "python",
   "pygments_lexer": "ipython3",
   "version": "3.10.2"
  },
  "orig_nbformat": 4,
  "vscode": {
   "interpreter": {
    "hash": "a42ccb73e7d9bfdf27e036f1d2b8b681e55fc0743cc5586bc2474d4a60f4b886"
   }
  }
 },
 "nbformat": 4,
 "nbformat_minor": 2
}
